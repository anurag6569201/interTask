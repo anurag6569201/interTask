{
 "cells": [
  {
   "cell_type": "code",
   "execution_count": 88,
   "metadata": {},
   "outputs": [],
   "source": [
    "import pandas as pd\n",
    "\n",
    "df=pd.read_csv('../data/2024.csv')\n",
    "df.columns = ['State/UT', 'District', 'Disease', 'No_of_Cases', 'No_of_Deaths', 'Date_of_Start', 'Current_Status']\n"
   ]
  },
  {
   "cell_type": "code",
   "execution_count": 89,
   "metadata": {},
   "outputs": [],
   "source": [
    "df=df[['State/UT', 'District', 'Disease', 'No_of_Cases','Date_of_Start']]"
   ]
  },
  {
   "cell_type": "code",
   "execution_count": 90,
   "metadata": {},
   "outputs": [
    {
     "data": {
      "text/html": [
       "<div>\n",
       "<style scoped>\n",
       "    .dataframe tbody tr th:only-of-type {\n",
       "        vertical-align: middle;\n",
       "    }\n",
       "\n",
       "    .dataframe tbody tr th {\n",
       "        vertical-align: top;\n",
       "    }\n",
       "\n",
       "    .dataframe thead th {\n",
       "        text-align: right;\n",
       "    }\n",
       "</style>\n",
       "<table border=\"1\" class=\"dataframe\">\n",
       "  <thead>\n",
       "    <tr style=\"text-align: right;\">\n",
       "      <th></th>\n",
       "      <th>State/UT</th>\n",
       "      <th>District</th>\n",
       "      <th>Disease</th>\n",
       "      <th>No_of_Cases</th>\n",
       "      <th>Date_of_Start</th>\n",
       "    </tr>\n",
       "  </thead>\n",
       "  <tbody>\n",
       "    <tr>\n",
       "      <th>0</th>\n",
       "      <td>Arunachal Pradesh</td>\n",
       "      <td>East Kameng</td>\n",
       "      <td>Measles</td>\n",
       "      <td>11</td>\n",
       "      <td>2024-01-25 00:00:00</td>\n",
       "    </tr>\n",
       "    <tr>\n",
       "      <th>1</th>\n",
       "      <td>D&amp;N Haveli And Daman And Diu</td>\n",
       "      <td>Daman</td>\n",
       "      <td>Food Poisoning</td>\n",
       "      <td>24</td>\n",
       "      <td>2024-01-23 00:00:00</td>\n",
       "    </tr>\n",
       "    <tr>\n",
       "      <th>2</th>\n",
       "      <td>Gujarat</td>\n",
       "      <td>Gandhinagar</td>\n",
       "      <td>Acute Diarrheal Disease</td>\n",
       "      <td>117</td>\n",
       "      <td>2024-01-23 00:00:00</td>\n",
       "    </tr>\n",
       "    <tr>\n",
       "      <th>3</th>\n",
       "      <td>Gujarat</td>\n",
       "      <td>Valsad</td>\n",
       "      <td>Acute Diarrheal Disease</td>\n",
       "      <td>73</td>\n",
       "      <td>2024-01-22 00:00:00</td>\n",
       "    </tr>\n",
       "    <tr>\n",
       "      <th>4</th>\n",
       "      <td>Jammu and Kashmir</td>\n",
       "      <td>Badgam</td>\n",
       "      <td>Jaundice</td>\n",
       "      <td>46</td>\n",
       "      <td>2024-01-24 00:00:00</td>\n",
       "    </tr>\n",
       "  </tbody>\n",
       "</table>\n",
       "</div>"
      ],
      "text/plain": [
       "                       State/UT     District                  Disease  \\\n",
       "0             Arunachal Pradesh  East Kameng                  Measles   \n",
       "1  D&N Haveli And Daman And Diu        Daman           Food Poisoning   \n",
       "2                       Gujarat  Gandhinagar  Acute Diarrheal Disease   \n",
       "3                       Gujarat       Valsad  Acute Diarrheal Disease   \n",
       "4             Jammu and Kashmir       Badgam                 Jaundice   \n",
       "\n",
       "   No_of_Cases        Date_of_Start  \n",
       "0           11  2024-01-25 00:00:00  \n",
       "1           24  2024-01-23 00:00:00  \n",
       "2          117  2024-01-23 00:00:00  \n",
       "3           73  2024-01-22 00:00:00  \n",
       "4           46  2024-01-24 00:00:00  "
      ]
     },
     "execution_count": 90,
     "metadata": {},
     "output_type": "execute_result"
    }
   ],
   "source": [
    "df.head()"
   ]
  },
  {
   "cell_type": "code",
   "execution_count": 91,
   "metadata": {},
   "outputs": [],
   "source": [
    "trending_data_model=df[['State/UT', 'District', 'Date_of_Start']]"
   ]
  },
  {
   "cell_type": "code",
   "execution_count": 92,
   "metadata": {},
   "outputs": [
    {
     "data": {
      "text/html": [
       "<div>\n",
       "<style scoped>\n",
       "    .dataframe tbody tr th:only-of-type {\n",
       "        vertical-align: middle;\n",
       "    }\n",
       "\n",
       "    .dataframe tbody tr th {\n",
       "        vertical-align: top;\n",
       "    }\n",
       "\n",
       "    .dataframe thead th {\n",
       "        text-align: right;\n",
       "    }\n",
       "</style>\n",
       "<table border=\"1\" class=\"dataframe\">\n",
       "  <thead>\n",
       "    <tr style=\"text-align: right;\">\n",
       "      <th></th>\n",
       "      <th>State/UT</th>\n",
       "      <th>District</th>\n",
       "      <th>Date_of_Start</th>\n",
       "    </tr>\n",
       "  </thead>\n",
       "  <tbody>\n",
       "    <tr>\n",
       "      <th>0</th>\n",
       "      <td>Arunachal Pradesh</td>\n",
       "      <td>East Kameng</td>\n",
       "      <td>2024-01-25 00:00:00</td>\n",
       "    </tr>\n",
       "    <tr>\n",
       "      <th>1</th>\n",
       "      <td>D&amp;N Haveli And Daman And Diu</td>\n",
       "      <td>Daman</td>\n",
       "      <td>2024-01-23 00:00:00</td>\n",
       "    </tr>\n",
       "    <tr>\n",
       "      <th>2</th>\n",
       "      <td>Gujarat</td>\n",
       "      <td>Gandhinagar</td>\n",
       "      <td>2024-01-23 00:00:00</td>\n",
       "    </tr>\n",
       "    <tr>\n",
       "      <th>3</th>\n",
       "      <td>Gujarat</td>\n",
       "      <td>Valsad</td>\n",
       "      <td>2024-01-22 00:00:00</td>\n",
       "    </tr>\n",
       "    <tr>\n",
       "      <th>4</th>\n",
       "      <td>Jammu and Kashmir</td>\n",
       "      <td>Badgam</td>\n",
       "      <td>2024-01-24 00:00:00</td>\n",
       "    </tr>\n",
       "  </tbody>\n",
       "</table>\n",
       "</div>"
      ],
      "text/plain": [
       "                       State/UT     District        Date_of_Start\n",
       "0             Arunachal Pradesh  East Kameng  2024-01-25 00:00:00\n",
       "1  D&N Haveli And Daman And Diu        Daman  2024-01-23 00:00:00\n",
       "2                       Gujarat  Gandhinagar  2024-01-23 00:00:00\n",
       "3                       Gujarat       Valsad  2024-01-22 00:00:00\n",
       "4             Jammu and Kashmir       Badgam  2024-01-24 00:00:00"
      ]
     },
     "execution_count": 92,
     "metadata": {},
     "output_type": "execute_result"
    }
   ],
   "source": [
    "trending_data_model.head()"
   ]
  },
  {
   "cell_type": "code",
   "execution_count": 93,
   "metadata": {},
   "outputs": [
    {
     "name": "stderr",
     "output_type": "stream",
     "text": [
      "/var/folders/30/y95bh8d55nl10w9hr7kt73g00000gn/T/ipykernel_16188/942169231.py:2: SettingWithCopyWarning: \n",
      "A value is trying to be set on a copy of a slice from a DataFrame.\n",
      "Try using .loc[row_indexer,col_indexer] = value instead\n",
      "\n",
      "See the caveats in the documentation: https://pandas.pydata.org/pandas-docs/stable/user_guide/indexing.html#returning-a-view-versus-a-copy\n",
      "  trending_data_model['user'] = np.random.randint(4, 64, size=len(trending_data_model))\n"
     ]
    }
   ],
   "source": [
    "import numpy as np\n",
    "trending_data_model['user'] = np.random.randint(4, 64, size=len(trending_data_model))\n",
    "trending_data_model['id'] = range(1, 1 + len(trending_data_model))"
   ]
  },
  {
   "cell_type": "code",
   "execution_count": 94,
   "metadata": {},
   "outputs": [
    {
     "data": {
      "text/html": [
       "<div>\n",
       "<style scoped>\n",
       "    .dataframe tbody tr th:only-of-type {\n",
       "        vertical-align: middle;\n",
       "    }\n",
       "\n",
       "    .dataframe tbody tr th {\n",
       "        vertical-align: top;\n",
       "    }\n",
       "\n",
       "    .dataframe thead th {\n",
       "        text-align: right;\n",
       "    }\n",
       "</style>\n",
       "<table border=\"1\" class=\"dataframe\">\n",
       "  <thead>\n",
       "    <tr style=\"text-align: right;\">\n",
       "      <th></th>\n",
       "      <th>State/UT</th>\n",
       "      <th>District</th>\n",
       "      <th>Date_of_Start</th>\n",
       "      <th>user</th>\n",
       "      <th>id</th>\n",
       "    </tr>\n",
       "  </thead>\n",
       "  <tbody>\n",
       "    <tr>\n",
       "      <th>0</th>\n",
       "      <td>Arunachal Pradesh</td>\n",
       "      <td>East Kameng</td>\n",
       "      <td>2024-01-25 00:00:00</td>\n",
       "      <td>12</td>\n",
       "      <td>1</td>\n",
       "    </tr>\n",
       "    <tr>\n",
       "      <th>1</th>\n",
       "      <td>D&amp;N Haveli And Daman And Diu</td>\n",
       "      <td>Daman</td>\n",
       "      <td>2024-01-23 00:00:00</td>\n",
       "      <td>10</td>\n",
       "      <td>2</td>\n",
       "    </tr>\n",
       "    <tr>\n",
       "      <th>2</th>\n",
       "      <td>Gujarat</td>\n",
       "      <td>Gandhinagar</td>\n",
       "      <td>2024-01-23 00:00:00</td>\n",
       "      <td>62</td>\n",
       "      <td>3</td>\n",
       "    </tr>\n",
       "    <tr>\n",
       "      <th>3</th>\n",
       "      <td>Gujarat</td>\n",
       "      <td>Valsad</td>\n",
       "      <td>2024-01-22 00:00:00</td>\n",
       "      <td>45</td>\n",
       "      <td>4</td>\n",
       "    </tr>\n",
       "    <tr>\n",
       "      <th>4</th>\n",
       "      <td>Jammu and Kashmir</td>\n",
       "      <td>Badgam</td>\n",
       "      <td>2024-01-24 00:00:00</td>\n",
       "      <td>7</td>\n",
       "      <td>5</td>\n",
       "    </tr>\n",
       "  </tbody>\n",
       "</table>\n",
       "</div>"
      ],
      "text/plain": [
       "                       State/UT     District        Date_of_Start  user  id\n",
       "0             Arunachal Pradesh  East Kameng  2024-01-25 00:00:00    12   1\n",
       "1  D&N Haveli And Daman And Diu        Daman  2024-01-23 00:00:00    10   2\n",
       "2                       Gujarat  Gandhinagar  2024-01-23 00:00:00    62   3\n",
       "3                       Gujarat       Valsad  2024-01-22 00:00:00    45   4\n",
       "4             Jammu and Kashmir       Badgam  2024-01-24 00:00:00     7   5"
      ]
     },
     "execution_count": 94,
     "metadata": {},
     "output_type": "execute_result"
    }
   ],
   "source": [
    "trending_data_model.head()"
   ]
  },
  {
   "cell_type": "code",
   "execution_count": 95,
   "metadata": {},
   "outputs": [],
   "source": [
    "trending_data_model = trending_data_model[['id','user', 'State/UT', 'District', 'Date_of_Start']]\n"
   ]
  },
  {
   "cell_type": "code",
   "execution_count": 96,
   "metadata": {},
   "outputs": [],
   "source": [
    "trending_data_model.to_csv('models/trending_data.csv',index=None)"
   ]
  }
 ],
 "metadata": {
  "kernelspec": {
   "display_name": "sanitasenv",
   "language": "python",
   "name": "python3"
  },
  "language_info": {
   "codemirror_mode": {
    "name": "ipython",
    "version": 3
   },
   "file_extension": ".py",
   "mimetype": "text/x-python",
   "name": "python",
   "nbconvert_exporter": "python",
   "pygments_lexer": "ipython3",
   "version": "3.12.4"
  }
 },
 "nbformat": 4,
 "nbformat_minor": 2
}
