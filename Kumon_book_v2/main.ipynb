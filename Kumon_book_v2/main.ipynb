{
 "cells": [
  {
   "cell_type": "code",
   "execution_count": 1,
   "metadata": {},
   "outputs": [
    {
     "name": "stdout",
     "output_type": "stream",
     "text": [
      "Extracted Text: Title: I | b\n",
      "\n",
      "Body Text:\n",
      "(10) (-2)^2 =\n",
      "(11) (-2)^3=\n",
      "(12) (-2)^4=\n",
      "(13) (− ½ )^2 =\n",
      "(14) (-⅔)^3 = \n",
      "(15) -(−2)^3 =\n",
      "\n",
      "(16) -(-2)^5 =\n",
      "(17) −(−½)^3 =\n",
      "(18) −³²=\n",
      "(19) -\n",
      "(20) -\n",
      "(21) (− ¼ )^3= \n",
      "(22) (-⅓)^4 = \n",
      "\n",
      "Footer: Scanned by CamScanner\n"
     ]
    }
   ],
   "source": [
    "import requests\n",
    "import base64\n",
    "\n",
    "# Replace with your Ollama server's IP\n",
    "OLLAMA_URL = \"http://48.216.241.253:11434/api/generate\"\n",
    "\n",
    "# Convert Image to Base64\n",
    "def encode_image(image_path):\n",
    "    with open(image_path, \"rb\") as image_file:\n",
    "        return base64.b64encode(image_file.read()).decode(\"utf-8\")\n",
    "\n",
    "# Provide your image file path\n",
    "image_path = \"/Users/anuragsingh/Documents/GitHub/LLM/book_arrangement/extraction_data/material/233_I_Polynomials_1/2547/common/p2.png\"\n",
    "image_base64 = encode_image(image_path)\n",
    "\n",
    "# API Request Data\n",
    "data = {\n",
    "    \"model\": \"minicpm-v:latest\",\n",
    "    \"prompt\": \"Extract and return only the text from this image, without additional comments. and remove the unwanted text its education images\",\n",
    "    \"images\": [image_base64],\n",
    "    \"stream\": False,\n",
    "}\n",
    "\n",
    "# Send the request\n",
    "response = requests.post(OLLAMA_URL, json=data)\n",
    "\n",
    "# Print response\n",
    "try:\n",
    "    response_json = response.json()\n",
    "    print(\"Extracted Text:\", response_json.get(\"response\", \"No text found\"))\n",
    "except requests.exceptions.JSONDecodeError as e:\n",
    "    print(\"JSON Decode Error:\", str(e))\n"
   ]
  },
  {
   "cell_type": "code",
   "execution_count": 14,
   "metadata": {},
   "outputs": [],
   "source": [
    "ocr_result=response_json.get(\"response\")"
   ]
  },
  {
   "cell_type": "code",
   "execution_count": 15,
   "metadata": {},
   "outputs": [
    {
     "data": {
      "text/plain": [
       "'Title: I | b\\n\\nBody Text:\\n(10) (-2)^2 =\\n(11) (-2)^3=\\n(12) (-2)^4=\\n(13) (− ½ )^2 =\\n(14) (-⅔)^3 = \\n(15) -(−2)^3 =\\n\\n(16) -(-2)^5 =\\n(17) −(−½)^3 =\\n(18) −³²=\\n(19) -\\n(20) -\\n(21) (− ¼ )^3= \\n(22) (-⅓)^4 = \\n\\nFooter: Scanned by CamScanner'"
      ]
     },
     "execution_count": 15,
     "metadata": {},
     "output_type": "execute_result"
    }
   ],
   "source": [
    "ocr_result"
   ]
  },
  {
   "cell_type": "code",
   "execution_count": 19,
   "metadata": {},
   "outputs": [
    {
     "name": "stdout",
     "output_type": "stream",
     "text": [
      "Response: <think>\n",
      "Alright, let me try to figure out how to respond to this user's query. They want a Python dictionary that contains arithmetic expressions similar to their original set but with new ones of the same type. The sample questions provided include both positive and negative exponents, as well as exponents on fractions.\n",
      "\n",
      "First, I need to understand the structure they're expecting. The initial response had questions like (1) to (10), each with an algebraic expression. They now want similar expressions but different from the original ones. So I should create new problems that fit the same number and type of operations.\n",
      "\n",
      "Looking at their sample questions, they have exponentiation with both positive and negative bases and various exponents. For example, (-2)^2, (-2)^3, etc., as well as fractions like (−½)^2 and (-⅔)^3. There are also some where the negative sign is outside the exponent, such as -(-2)^5.\n",
      "\n",
      "I should generate new expressions that mirror these but use different numbers or variables to avoid duplication. Let's see: perhaps using 3 instead of -2, like (3)^4, (3)^5, etc., and also include fractions such as (−⅓)^2 or something similar. Also, negative bases with positive exponents and negative exponents.\n",
      "\n",
      "I need to make sure each expression is properly formatted in LaTeX for MathJax rendering. So I'll use the appropriate syntax for superscripts and negatives. For example, (-2)^5 becomes \\((-2)^5\\) and -(−3)^4 becomes -\\((−3)^4\\).\n",
      "\n",
      "Also, I should check that the numbering from (1) to (10) is maintained, just like in their original set. This means each new expression should be a similar structure but with unique problems.\n",
      "\n",
      "Let me list out possible expressions:\n",
      "\n",
      "1. A positive exponent on 3: (3)^4\n",
      "2. Negative exponent on -4: (-4)^-2\n",
      "3. Positive exponent on a fraction: \\((−\\frac{1}{2})^5\\)\n",
      "4. Negative exponent on a negative base: \\((-5)^{-3}\\)\n",
      "5. Negative sign before the base with positive exponent: -(−6)^4\n",
      "6. Fraction with negative exponent: \\(\\left(-\\frac{2}{3}\\right)^{-2}\\)\n",
      "7. Positive exponent on 7: (7)^6\n",
      "8. Negative exponent on fraction: \\((-\\frac{1}{4})^{-5}\\)\n",
      "9. Mixed base and exponent: \\(-(−8)^5\\)\n",
      "10. Fraction with positive exponent: \\(\\left(-\\frac{1}{3}\\right)^3\\)\n",
      "\n",
      "Wait, that's 10 expressions. Now I need to ensure each is unique and covers both positive/negative exponents, fractions, etc., similar to the original set.\n",
      "\n",
      "Let me make sure none of these are in the sample provided by the user. Checking their list: they had up to (22) with various exponents. So these new ones should not overlap.\n",
      "\n",
      "I think that's a solid approach. Now, I'll structure this into the required Python dictionary format without any extra text or explanations.\n",
      "</think>\n",
      "\n",
      "{\"title\": \"<p class=\\\"title\\\">New arithmetic expressions</p>\",\"questions\": \"<div class=\\\"question\\\"><div><span class=\\\"question-number\\\">(1)</span> (3)^4 =</div><div><span class=\\\"question-number\\\">(2)</span> (-4)^-2 =</div><div><span class=\\\"question-number\\\">(7)</span> \\((−\\frac{1}{2})^5\\) =</div><div><span class=\\\"question-number\\\">(8)</span> \\((-5)^{-3}\\) =</div><div><span class=\\\"question-number\\\">(9)</span> -(−6)^4 =</div><div><span class=\\\"question-number\\\">(10)</span> \\(\\left(-\\frac{2}{3}\\right)^{-2}\\) =</div></div>\"}\n"
     ]
    }
   ],
   "source": [
    "import requests\n",
    "# Replace with your Azure VM's public IP\n",
    "OLLAMA_URL = \"http://20.106.184.26:11434/api/generate\"\n",
    "\n",
    "# Define the request payload\n",
    "data = {\n",
    "    \"model\": \"deepseek-r1:8b\",\n",
    "    \"prompt\": \"\"\"\n",
    "        Your response must be a valid Python dictionary, with no extra text, explanations, or formatting.\n",
    "The response should strictly follow this structure:\n",
    "\n",
    "{\\\"title\\\": \\\"<p class=\\\\\\\"title\\\\\\\">Simple arithmetic questions</p>\\\",\\\"questions\\\": \\\"<div class=\\\\\\\"question\\\\\\\"><div><span class=\\\\\\\"question-number\\\\\\\">(1)</span> (3a + b)(4x + 3y) =</div><div><span class=\\\\\\\"question-number\\\\\\\">(2)</span> (c - d)(a + b) =</div><div><span class=\\\\\\\"question-number\\\\\\\">(7)</span> (4a - b)(3x + 2y) =</div><div><span class=\\\\\\\"question-number\\\\\\\">(8)</span> (2x + 3)(4y - 5) =</div><div><span class=\\\\\\\"question-number\\\\\\\">(9)</span> (50x - 30)(20y + 10) =</div><div><span class=\\\\\\\"question-number\\\\\\\">(10)</span> (b + c)(a - 1) =</div></div>\\\"}\n",
    "\n",
    "Instructions:\n",
    "Generate a similar response but replace the expressions with new ones of the same type.\n",
    "Use the given sample questions as a reference to create similar arithmetic expressions.\n",
    "Format the new expressions in LaTeX so they are properly rendered using MathJax.\n",
    "Do not add any explanations, text, or formatting—just return the dictionary.\n",
    "Reference Sample Questions:\n",
    "Here are the original sample questions that must be used as a base to generate new ones:\n",
    " \"\"\"+ ocr_result + \"\"\"\n",
    "The generated response must maintain the same structure and number of questions to be same as in the provided sample questions and json formatted \n",
    "Do Not include think in the response\n",
    "    \"\"\",\n",
    "    \"stream\": False\n",
    "}\n",
    "\n",
    "\n",
    "# Send the request\n",
    "response = requests.post(OLLAMA_URL, json=data)\n",
    "\n",
    "# Print the response\n",
    "if response.status_code == 200:\n",
    "    print(\"Response:\", response.json()[\"response\"])\n",
    "else:\n",
    "    print(\"Error:\", response.status_code, response.text)\n"
   ]
  },
  {
   "cell_type": "code",
   "execution_count": 20,
   "metadata": {},
   "outputs": [
    {
     "name": "stdout",
     "output_type": "stream",
     "text": [
      "{\"title\": \"<p class=\\\"title\\\">New arithmetic expressions</p>\",\"questions\": \"<div class=\\\"question\\\"><div><span class=\\\"question-number\\\">(1)</span> (3)^4 =</div><div><span class=\\\"question-number\\\">(2)</span> (-4)^-2 =</div><div><span class=\\\"question-number\\\">(7)</span> \\((−\\frac{1}{2})^5\\) =</div><div><span class=\\\"question-number\\\">(8)</span> \\((-5)^{-3}\\) =</div><div><span class=\\\"question-number\\\">(9)</span> -(−6)^4 =</div><div><span class=\\\"question-number\\\">(10)</span> \\(\\left(-\\frac{2}{3}\\right)^{-2}\\) =</div></div>\"}\n"
     ]
    }
   ],
   "source": [
    "import re\n",
    "match = re.search(r\"</think>\\s*(.*)\", response.json()[\"response\"], re.DOTALL)\n",
    "if match:\n",
    "    extracted_text = match.group(1)\n",
    "    print(extracted_text)\n",
    "else:\n",
    "    print(\"No valid response found.\")"
   ]
  },
  {
   "cell_type": "code",
   "execution_count": null,
   "metadata": {},
   "outputs": [],
   "source": []
  }
 ],
 "metadata": {
  "kernelspec": {
   "display_name": ".venv",
   "language": "python",
   "name": "python3"
  },
  "language_info": {
   "codemirror_mode": {
    "name": "ipython",
    "version": 3
   },
   "file_extension": ".py",
   "mimetype": "text/x-python",
   "name": "python",
   "nbconvert_exporter": "python",
   "pygments_lexer": "ipython3",
   "version": "3.10.0"
  }
 },
 "nbformat": 4,
 "nbformat_minor": 2
}
