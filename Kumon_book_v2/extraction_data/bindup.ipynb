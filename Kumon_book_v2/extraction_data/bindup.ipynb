{
 "cells": [
  {
   "cell_type": "code",
   "execution_count": 39,
   "metadata": {},
   "outputs": [],
   "source": [
    "from PIL import Image\n",
    "import os\n",
    "import pandas as pd"
   ]
  },
  {
   "cell_type": "code",
   "execution_count": 40,
   "metadata": {},
   "outputs": [
    {
     "name": "stdout",
     "output_type": "stream",
     "text": [
      "0    Basics_for_Level_1_Mathematics\n",
      "1     Multiplication_of_Polynomials\n",
      "Name: file_name, dtype: object\n"
     ]
    }
   ],
   "source": [
    "data_df=pd.read_csv('../urls.csv')\n",
    "data_df['file_name'] = data_df['file_name'].apply(lambda x: x.replace(' ', '_') if isinstance(x, str) else x)\n",
    "data_df['crs_title'] = data_df['crs_title'].apply(lambda x: x.replace(' ', '_') if isinstance(x, str) else x)\n",
    "print(data_df['file_name'])\n"
   ]
  },
  {
   "cell_type": "code",
   "execution_count": 42,
   "metadata": {},
   "outputs": [
    {
     "name": "stdout",
     "output_type": "stream",
     "text": [
      "/Users/anuragsingh/Documents/GitHub/LLM/book_arrangement/extraction_data/../extraction_data/material/233_I_Polynomials_1/2547\n",
      "/Users/anuragsingh/Documents/GitHub/LLM/book_arrangement/extraction_data/../extraction_data/material/233_I_Polynomials/2546\n"
     ]
    }
   ],
   "source": [
    "from folder_paths import current_folder_paths\n",
    "for fold in current_folder_paths:\n",
    "    print(fold)"
   ]
  },
  {
   "cell_type": "code",
   "execution_count": 45,
   "metadata": {},
   "outputs": [
    {
     "name": "stdout",
     "output_type": "stream",
     "text": [
      "/Users/anuragsingh/Documents/GitHub/LLM/book_arrangement/extraction_data/../extraction_data/material/233_I_Polynomials_1/2547/generated\n",
      "PDF created successfully: /Users/anuragsingh/Documents/GitHub/LLM/book_arrangement/extraction_data/../extraction_data/material/233_I_Polynomials_1/2547/generated/Basics_for_Level_1_Mathematics.pdf\n",
      "/Users/anuragsingh/Documents/GitHub/LLM/book_arrangement/extraction_data/../extraction_data/material/233_I_Polynomials/2546/generated\n",
      "PDF created successfully: /Users/anuragsingh/Documents/GitHub/LLM/book_arrangement/extraction_data/../extraction_data/material/233_I_Polynomials/2546/generated/Multiplication_of_Polynomials.pdf\n"
     ]
    }
   ],
   "source": [
    "import os\n",
    "from PIL import Image\n",
    "\n",
    "for folder_name, file_name in zip(current_folder_paths, data_df['file_name']):\n",
    "    folder_name = os.path.join(folder_name, 'generated')\n",
    "    print(folder_name)\n",
    "\n",
    "    # Get all images sorted in order\n",
    "    image_files = sorted(\n",
    "        [f for f in os.listdir(folder_name) if f.endswith(\".png\")], \n",
    "        key=lambda x: int(x[1:-4])\n",
    "    )\n",
    "\n",
    "    if not image_files:\n",
    "        print(\"No images found in the folder.\")\n",
    "    else:\n",
    "        output_pdf = os.path.join(folder_name, f\"{file_name}.pdf\") # Ensure output path is set before saving\n",
    "        \n",
    "        # Open first image\n",
    "        first_image = Image.open(os.path.join(folder_name, image_files[0]))\n",
    "        image_list = [Image.open(os.path.join(folder_name, img)).convert(\"RGB\") for img in image_files[1:]]\n",
    "\n",
    "        # Save as PDF\n",
    "        first_image.save(output_pdf, save_all=True, append_images=image_list)\n",
    "        print(f\"PDF created successfully: {output_pdf}\")\n"
   ]
  }
 ],
 "metadata": {
  "kernelspec": {
   "display_name": "llmenv",
   "language": "python",
   "name": "python3"
  },
  "language_info": {
   "codemirror_mode": {
    "name": "ipython",
    "version": 3
   },
   "file_extension": ".py",
   "mimetype": "text/x-python",
   "name": "python",
   "nbconvert_exporter": "python",
   "pygments_lexer": "ipython3",
   "version": "3.12.4"
  }
 },
 "nbformat": 4,
 "nbformat_minor": 2
}
