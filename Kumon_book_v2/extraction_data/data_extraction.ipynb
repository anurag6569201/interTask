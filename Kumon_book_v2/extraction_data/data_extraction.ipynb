{
 "cells": [
  {
   "cell_type": "markdown",
   "metadata": {},
   "source": [
    "# file name formate"
   ]
  },
  {
   "cell_type": "code",
   "execution_count": 1,
   "metadata": {},
   "outputs": [],
   "source": [
    "\"\"\"\n",
    "reading the csv file which contains\n",
    "crs_id,crs_title,file_id,file_name,file_url \n",
    "filling the gaps and formatting the fields to make it readable by code\n",
    "\"\"\"\n",
    "\n",
    "import pandas as pd\n",
    "data_df=pd.read_csv('../urls.csv')\n",
    "data_df['crs_title'] = data_df['crs_title'].apply(lambda x: x.replace(' ', '_') if isinstance(x, str) else x)\n",
    "data_df['final_name'] = data_df['crs_id'].astype(str) + '_' + data_df['crs_title'].astype(str) "
   ]
  },
  {
   "cell_type": "code",
   "execution_count": 2,
   "metadata": {},
   "outputs": [],
   "source": [
    "\"\"\"\n",
    "creating list of first folder names under the material\n",
    "\"\"\"\n",
    "\n",
    "first_folder_name=data_df['final_name'].to_list()"
   ]
  },
  {
   "cell_type": "code",
   "execution_count": 3,
   "metadata": {},
   "outputs": [
    {
     "name": "stdout",
     "output_type": "stream",
     "text": [
      "['233_I_Polynomials_2546_Basics_for_Level_1_Mathematics.pdf', '233_I_Polynomials_2547_Multiplication_of_Polynomials.pdf']\n"
     ]
    }
   ],
   "source": [
    "\"\"\"\n",
    "Getting the list of names of the pdf files that downloaded and saved for the extraction of images from them and save it to the common folder\n",
    "\"\"\"\n",
    "\n",
    "import os\n",
    "\n",
    "directory_path_1 = '../downloading_data/downloads'\n",
    "files = [f for f in os.listdir(directory_path_1) if os.path.isfile(os.path.join(directory_path_1, f))]\n",
    "print(files)\n"
   ]
  },
  {
   "cell_type": "code",
   "execution_count": 4,
   "metadata": {},
   "outputs": [
    {
     "name": "stdout",
     "output_type": "stream",
     "text": [
      "Created folder: material/233_I_Polynomials\n",
      "Created folder: material/233_I_Polynomials_1\n"
     ]
    }
   ],
   "source": [
    "\"\"\"\n",
    "code for creating folders inside the material folder with the names which stored in first_folder_name variable\n",
    "\"\"\"\n",
    "material_dir = 'material' \n",
    "os.makedirs(material_dir, exist_ok=True)\n",
    "\n",
    "for file, first_folder in zip(files, first_folder_name):\n",
    "    save_folder = os.path.join(material_dir, first_folder)\n",
    "\n",
    "    counter = 1\n",
    "    original_save_folder = save_folder\n",
    "    while os.path.exists(save_folder):\n",
    "        save_folder = f\"{original_save_folder}_{counter}\"\n",
    "        counter += 1\n",
    "    \n",
    "    os.makedirs(save_folder, exist_ok=True)\n",
    "    print(f\"Created folder: {save_folder}\")\n"
   ]
  },
  {
   "cell_type": "code",
   "execution_count": 5,
   "metadata": {},
   "outputs": [
    {
     "name": "stdout",
     "output_type": "stream",
     "text": [
      "['233_I_Polynomials_1', '233_I_Polynomials']\n"
     ]
    }
   ],
   "source": [
    "\"\"\"\n",
    "Storing the new generated folder in a list\n",
    "\"\"\"\n",
    "\n",
    "directory_path_2 = '../extraction_data/material'\n",
    "folders = [f for f in os.listdir(directory_path_2) if os.path.isdir(os.path.join(directory_path_2, f))]\n",
    "print(folders)"
   ]
  },
  {
   "cell_type": "code",
   "execution_count": 6,
   "metadata": {},
   "outputs": [
    {
     "name": "stdout",
     "output_type": "stream",
     "text": [
      "['2547', '2546']\n"
     ]
    }
   ],
   "source": [
    "\"\"\"\n",
    "Creating list of sub folders name inside the first_folder_name\n",
    "\"\"\"\n",
    "\n",
    "import pandas as pd\n",
    "data_df=pd.read_csv('../urls.csv')\n",
    "data_df['final_name'] = data_df['file_id'].astype(str)\n",
    "new_folders_list=data_df['final_name'].to_list()[::-1]\n",
    "print(new_folders_list)"
   ]
  },
  {
   "cell_type": "code",
   "execution_count": 7,
   "metadata": {},
   "outputs": [
    {
     "name": "stdout",
     "output_type": "stream",
     "text": [
      "Created folder: ../extraction_data/material/233_I_Polynomials_1/2547\n",
      "Created folder: ../extraction_data/material/233_I_Polynomials/2546\n"
     ]
    }
   ],
   "source": [
    "\"\"\"\n",
    "Creating the subfolder and storing their paths as a list\n",
    "\"\"\"\n",
    "\n",
    "current_folder_paths=[]\n",
    "\n",
    "for folder,new_folder in zip(folders,new_folders_list):\n",
    "    folder1_path = os.path.join(directory_path_2, folder,new_folder)\n",
    "    os.makedirs(folder1_path, exist_ok=True)\n",
    "\n",
    "    common_folder_path = os.path.join(folder1_path, 'common')\n",
    "    os.makedirs(common_folder_path, exist_ok=True)\n",
    "\n",
    "    generated_folder_path = os.path.join(folder1_path, 'generated')\n",
    "    os.makedirs(generated_folder_path, exist_ok=True)\n",
    "    \n",
    "    print(f\"Created folder: {folder1_path}\")\n",
    "    current_folder_paths.append(folder1_path)"
   ]
  },
  {
   "cell_type": "code",
   "execution_count": 8,
   "metadata": {},
   "outputs": [],
   "source": [
    "\"\"\"\n",
    "Base64 code which take pages one by one and create it in a base64 code for make it readable by gpt model\n",
    "\"\"\"\n",
    "\n",
    "import base64\n",
    "import io\n",
    "\n",
    "import fitz\n",
    "from PIL import Image\n",
    "import os\n",
    "\n",
    "# Function to convert a PDF page to base64\n",
    "def pdf_page_to_base64(pdf_path: str, page_number: int):\n",
    "    pdf_document = fitz.open(pdf_path)\n",
    "    page = pdf_document.load_page(page_number - 1)  # input is one-indexed\n",
    "    pix = page.get_pixmap()\n",
    "    img = Image.frombytes(\"RGB\", [pix.width, pix.height], pix.samples)\n",
    "\n",
    "    buffer = io.BytesIO()\n",
    "    img.save(buffer, format=\"PNG\")\n",
    "\n",
    "    return base64.b64encode(buffer.getvalue()).decode(\"utf-8\")"
   ]
  },
  {
   "cell_type": "code",
   "execution_count": 9,
   "metadata": {},
   "outputs": [],
   "source": [
    "\"\"\"\n",
    "Saving each pages inside the folder by editing their names i.e p1.png p2.png and so on\n",
    "\"\"\"\n",
    "\n",
    "# Function to save PDF pages as images\n",
    "def save_pdf_pages_as_images(pdf_path: str, output_folder: str):\n",
    "    # Create the output folder if it doesn't exist\n",
    "    os.makedirs(output_folder, exist_ok=True)\n",
    "\n",
    "    # Open the PDF document\n",
    "    pdf_document = fitz.open(pdf_path)\n",
    "    \n",
    "    # Loop through all pages and save as images\n",
    "    for page_number in range(1, pdf_document.page_count + 1):\n",
    "        # Convert page to base64 and then to an image file\n",
    "        base64_image = pdf_page_to_base64(pdf_path, page_number)\n",
    "        \n",
    "        # Decode the base64 image and save it\n",
    "        image_data = base64.b64decode(base64_image)\n",
    "        image_filename = os.path.join(output_folder, f\"p{page_number}.png\")\n",
    "        \n",
    "        with open(image_filename, 'wb') as img_file:\n",
    "            img_file.write(image_data)\n",
    "        \n",
    "        print(f\"Saved page {page_number} as {image_filename}\")\n"
   ]
  },
  {
   "cell_type": "code",
   "execution_count": 10,
   "metadata": {},
   "outputs": [
    {
     "name": "stdout",
     "output_type": "stream",
     "text": [
      "Saved page 1 as ../extraction_data/material/233_I_Polynomials_1/2547/common/p1.png\n",
      "Saved page 2 as ../extraction_data/material/233_I_Polynomials_1/2547/common/p2.png\n",
      "Saved page 3 as ../extraction_data/material/233_I_Polynomials_1/2547/common/p3.png\n",
      "Saved page 4 as ../extraction_data/material/233_I_Polynomials_1/2547/common/p4.png\n",
      "Saved page 5 as ../extraction_data/material/233_I_Polynomials_1/2547/common/p5.png\n",
      "Saved page 6 as ../extraction_data/material/233_I_Polynomials_1/2547/common/p6.png\n",
      "Saved page 7 as ../extraction_data/material/233_I_Polynomials_1/2547/common/p7.png\n",
      "Saved page 8 as ../extraction_data/material/233_I_Polynomials_1/2547/common/p8.png\n",
      "Saved page 9 as ../extraction_data/material/233_I_Polynomials_1/2547/common/p9.png\n",
      "Saved page 10 as ../extraction_data/material/233_I_Polynomials_1/2547/common/p10.png\n",
      "Saved page 11 as ../extraction_data/material/233_I_Polynomials_1/2547/common/p11.png\n",
      "Saved page 12 as ../extraction_data/material/233_I_Polynomials_1/2547/common/p12.png\n",
      "Saved page 13 as ../extraction_data/material/233_I_Polynomials_1/2547/common/p13.png\n",
      "Saved page 14 as ../extraction_data/material/233_I_Polynomials_1/2547/common/p14.png\n",
      "Saved page 15 as ../extraction_data/material/233_I_Polynomials_1/2547/common/p15.png\n",
      "Saved page 16 as ../extraction_data/material/233_I_Polynomials_1/2547/common/p16.png\n",
      "Saved page 17 as ../extraction_data/material/233_I_Polynomials_1/2547/common/p17.png\n",
      "Saved page 18 as ../extraction_data/material/233_I_Polynomials_1/2547/common/p18.png\n",
      "Saved page 19 as ../extraction_data/material/233_I_Polynomials_1/2547/common/p19.png\n",
      "Saved page 20 as ../extraction_data/material/233_I_Polynomials_1/2547/common/p20.png\n",
      "Saved page 1 as ../extraction_data/material/233_I_Polynomials/2546/common/p1.png\n",
      "Saved page 2 as ../extraction_data/material/233_I_Polynomials/2546/common/p2.png\n",
      "Saved page 3 as ../extraction_data/material/233_I_Polynomials/2546/common/p3.png\n",
      "Saved page 4 as ../extraction_data/material/233_I_Polynomials/2546/common/p4.png\n",
      "Saved page 5 as ../extraction_data/material/233_I_Polynomials/2546/common/p5.png\n",
      "Saved page 6 as ../extraction_data/material/233_I_Polynomials/2546/common/p6.png\n",
      "Saved page 7 as ../extraction_data/material/233_I_Polynomials/2546/common/p7.png\n",
      "Saved page 8 as ../extraction_data/material/233_I_Polynomials/2546/common/p8.png\n",
      "Saved page 9 as ../extraction_data/material/233_I_Polynomials/2546/common/p9.png\n",
      "Saved page 10 as ../extraction_data/material/233_I_Polynomials/2546/common/p10.png\n",
      "Saved page 11 as ../extraction_data/material/233_I_Polynomials/2546/common/p11.png\n",
      "Saved page 12 as ../extraction_data/material/233_I_Polynomials/2546/common/p12.png\n",
      "Saved page 13 as ../extraction_data/material/233_I_Polynomials/2546/common/p13.png\n",
      "Saved page 14 as ../extraction_data/material/233_I_Polynomials/2546/common/p14.png\n",
      "Saved page 15 as ../extraction_data/material/233_I_Polynomials/2546/common/p15.png\n",
      "Saved page 16 as ../extraction_data/material/233_I_Polynomials/2546/common/p16.png\n",
      "Saved page 17 as ../extraction_data/material/233_I_Polynomials/2546/common/p17.png\n",
      "Saved page 18 as ../extraction_data/material/233_I_Polynomials/2546/common/p18.png\n",
      "Saved page 19 as ../extraction_data/material/233_I_Polynomials/2546/common/p19.png\n",
      "Saved page 20 as ../extraction_data/material/233_I_Polynomials/2546/common/p20.png\n"
     ]
    }
   ],
   "source": [
    "\"\"\"\n",
    "Saving the images inside the common folder \n",
    "\"\"\"\n",
    "for common_folder,file in zip(current_folder_paths,files):\n",
    "    file_path = directory_path_1+'/'+file\n",
    "    output_folder = common_folder+'/common/'\n",
    "\n",
    "    save_pdf_pages_as_images(file_path, output_folder)"
   ]
  },
  {
   "cell_type": "code",
   "execution_count": 11,
   "metadata": {},
   "outputs": [],
   "source": [
    "\"\"\"\n",
    "Function for genrating the base64 of the image\n",
    "\"\"\"\n",
    "\n",
    "import base64\n",
    "import io\n",
    "\n",
    "import fitz\n",
    "from PIL import Image\n",
    "import os\n",
    "\n",
    "\n",
    "def pdf_page_to_base64(pdf_path: str, page_number: int):\n",
    "    pdf_document = fitz.open(pdf_path)\n",
    "    page = pdf_document.load_page(page_number - 1)  # input is one-indexed\n",
    "    pix = page.get_pixmap()\n",
    "    img = Image.frombytes(\"RGB\", [pix.width, pix.height], pix.samples)\n",
    "\n",
    "    buffer = io.BytesIO()\n",
    "    img.save(buffer, format=\"PNG\")\n",
    "\n",
    "    return base64.b64encode(buffer.getvalue()).decode(\"utf-8\")"
   ]
  },
  {
   "cell_type": "code",
   "execution_count": 12,
   "metadata": {},
   "outputs": [],
   "source": [
    "\"\"\"\n",
    "Function which returns the base64 code of the provided image path\n",
    "\"\"\"\n",
    "\n",
    "from IPython.display import Image as IPImage\n",
    "\n",
    "def get_image_path(img_path):\n",
    "    question_image_path = img_path\n",
    "    question_base64_image = pdf_page_to_base64(question_image_path, 0)\n",
    "    return question_base64_image"
   ]
  },
  {
   "cell_type": "code",
   "execution_count": null,
   "metadata": {},
   "outputs": [],
   "source": [
    "\"\"\"\n",
    "LLM model for generating the html response for the provided image\n",
    "\"\"\"\n",
    "\n",
    "import os  \n",
    "import base64\n",
    "from openai import AzureOpenAI  \n",
    "\n",
    "endpoint = \"https://ai-anuragsingh65692019195ai682501652060.openai.azure.com/\" \n",
    "deployment = \"gpt-4o\"\n",
    "subscription_key =\"ApKKNDsSgzuAwzeg0YmI97hia2uygeg8bQ7CheJt7jiP80BMxkRqJQQJ99ALACHYHv6XJ3w3AAAAACOGHz2s\"\n",
    "\n",
    "# Initialize Azure OpenAI Service client with key-based authentication    \n",
    "def llm_bot(question_base64_image):\n",
    "    client = AzureOpenAI(  \n",
    "        azure_endpoint=endpoint,  \n",
    "        api_key=subscription_key,  \n",
    "        api_version=\"2024-05-01-preview\",\n",
    "    )\n",
    "        \n",
    "    #Prepare the chat prompt \n",
    "    chat_prompt = [\n",
    "        {\n",
    "            \"role\": \"system\",\n",
    "            \"content\": [\n",
    "                {\n",
    "                    \"type\": \"text\",\n",
    "                    \"text\": \"\"\" I have an image of a scanned A4 paper containing questions. Your task is to generate HTML code to replicate after understanding it and make sure the questions should be unique as well as similar to them dont go beyond the topic make sure the level should be same and the response should be in only dictionary and make sure no (backslash n) \\n use only div. \n",
    "                        Your response must be a valid Python dictionary, with no extra text, explanations, or formatting. \n",
    "                        The response should exactly match the structure:\n",
    "                        Respond ONLY with a clean dictionary. No markdown (```), no \"python\", no \"json\", no explanations.  \n",
    "                        Your response should strictly follow this structure: \n",
    "                        {\"title\": \"<p class=\\\"title\\\">Simple arithmetic questions</p>\",\"questions\": \"<div class=\\\"question\\\"><div><span class=\\\"question-number\\\">(1)</span> (2a + b)(3x + 2y) =</div><div><span class=\\\"question-number\\\">(2)</span> (a - b)(c + d) =</div><div><span class=\\\"question-number\\\">(3)</span> (2a - b)(3x + 2y) =</div></div>\"}\n",
    "                        *your response should be clean it wont have any these things ```,python,\\n,```python\n",
    "                        *make sure same number of things to create\n",
    "                        **🚫 DO NOT include:**  \n",
    "                        - Markdown (` ``` `), \"python\", \"json\", or extra text.  \n",
    "                        - Any `\\n`, `\\t`, or escape sequences.  \n",
    "                        - Additional explanations or formatting.  \n",
    "                        *Include mathematical expressions in LaTeX format (using MathJax for rendering) it must be :\n",
    "                    \"\"\"\n",
    "                }\n",
    "            ]\n",
    "        },\n",
    "        {\n",
    "            \"role\": \"user\",\n",
    "            \"content\": [\n",
    "                {\n",
    "                    \"type\": \"image_url\",\n",
    "                    \"image_url\": {\"url\": f\"data:image/jpeg;base64,{question_base64_image}\"}\n",
    "                }\n",
    "            ]\n",
    "        }\n",
    "    ] \n",
    "        \n",
    "    # Include speech result if speech is enabled  \n",
    "    messages = chat_prompt  \n",
    "        \n",
    "    # Generate the completion  \n",
    "    completion = client.chat.completions.create(  \n",
    "        model=deployment,\n",
    "        messages=messages,\n",
    "        max_tokens=2000,  \n",
    "        temperature=0.7,  \n",
    "        top_p=0.95,  \n",
    "        frequency_penalty=0,  \n",
    "        presence_penalty=0,\n",
    "        stop=None,  \n",
    "        stream=False\n",
    "    )\n",
    "    return completion\n",
    "    "
   ]
  },
  {
   "cell_type": "code",
   "execution_count": null,
   "metadata": {},
   "outputs": [],
   "source": [
    "import json\n",
    "import time\n",
    "from selenium import webdriver\n",
    "from selenium.webdriver.chrome.service import Service\n",
    "from webdriver_manager.chrome import ChromeDriverManager\n",
    "from PIL import Image\n",
    "\n",
    "\n",
    "# Format the HTML content with data from the dictionary\n",
    "def generate_image_by_llm_and_save(response_dict,destination,image_name):\n",
    "    html_content = f\"\"\"\n",
    "    <!DOCTYPE html>  \n",
    "    <html lang=\"en\">  \n",
    "    <head>  \n",
    "    <meta charset=\"UTF-8\">  \n",
    "    <meta name=\"viewport\" content=\"width=device-width, initial-scale=1.0\">  \n",
    "    <title>Replica of A4 Paper</title>  \n",
    "    <script type=\"text/javascript\" async\n",
    "      src=\"https://cdnjs.cloudflare.com/ajax/libs/mathjax/2.7.7/MathJax.js?config=TeX-MML-AM_CHTML\">\n",
    "    </script>\n",
    "\n",
    "    <style>  \n",
    "        * {{  \n",
    "        margin: 0;  \n",
    "        padding: 0;  \n",
    "        box-sizing: border-box;  \n",
    "        }}  \n",
    "        body {{  \n",
    "        display: flex;  \n",
    "        justify-content: center;  \n",
    "        align-items: center;  \n",
    "        background-color: #f4f4f4;  \n",
    "        font-family: 'Times New Roman', Times, serif;  \n",
    "        }}  \n",
    "        .a4-page {{  \n",
    "        width: 210mm;\n",
    "            height: 297mm;\n",
    "            background: white;\n",
    "            padding: 10mm;\n",
    "            box-shadow: 0 0 10px rgba(0, 0, 0, 0.1);\n",
    "            border: 1px solid #ddd;\n",
    "            display: flex;\n",
    "            flex-direction: column; \n",
    "        }}  \n",
    "        .title {{  \n",
    "        font-size: 24px;  \n",
    "        font-weight: bold;  \n",
    "        text-align: left;  \n",
    "        }}  \n",
    "        .question {{  \n",
    "            font-size: 18px;\n",
    "            padding-top: 10px;\n",
    "            line-height: 1.8;\n",
    "            display: flex;\n",
    "            flex-direction: column;\n",
    "            justify-content: space-between;\n",
    "            height: 100%;\n",
    "        }}  \n",
    "        .question span {{  \n",
    "        font-weight: bold;  \n",
    "        }}  \n",
    "        .question-number {{  \n",
    "        margin-right: 10px;  \n",
    "        }}  \n",
    "    </style>  \n",
    "    </head>  \n",
    "    <body>  \n",
    "    <div class=\"a4-page\">  \n",
    "        {response_dict['title']}\n",
    "        {response_dict['questions']}\n",
    "    </div>  \n",
    "    </body>  \n",
    "    </html>\n",
    "    \"\"\"\n",
    "\n",
    "    # Save HTML to a file\n",
    "    html_file = \"/Users/anuragsingh/Documents/GitHub/LLM/book_arrangement/extraction_data/a4_page.html\"\n",
    "    with open(html_file, \"w\") as file:\n",
    "        file.write(html_content)\n",
    "\n",
    "    # Set up Selenium WebDriver\n",
    "    options = webdriver.ChromeOptions()\n",
    "    options.add_argument(\"--headless\")  # Run in headless mode\n",
    "    options.add_argument(\"--window-size=800,1200\")  # Ensure the window fits the A4 page\n",
    "    driver = webdriver.Chrome(service=Service(ChromeDriverManager().install()), options=options)\n",
    "\n",
    "    # Open the HTML file\n",
    "    driver.get(f\"file:///{html_file}\")\n",
    "\n",
    "    # Wait for the page to load\n",
    "    time.sleep(5)\n",
    "\n",
    "    # Adjust zoom level to fit A4 dimensions\n",
    "    driver.execute_script(\"document.body.style.zoom='0.94'\")  # Adjust zoom if needed\n",
    "    time.sleep(1)\n",
    "\n",
    "    # Take a full-page screenshot\n",
    "    screenshot_path = destination+image_name+'.png'\n",
    "    print(screenshot_path)\n",
    "    driver.save_screenshot(screenshot_path)\n",
    "\n",
    "    # Close the browser\n",
    "    driver.quit()\n",
    "\n"
   ]
  },
  {
   "cell_type": "code",
   "execution_count": null,
   "metadata": {},
   "outputs": [
    {
     "name": "stdout",
     "output_type": "stream",
     "text": [
      "{\"title\": \"<p class=\\\"title\\\">Exponential Expressions</p>\",\"questions\": \"<div class=\\\"question\\\"><div><span class=\\\"question-number\\\">(1)</span> \\\\((-3)^2 = \\\\)</div><div><span class=\\\"question-number\\\">(2)</span> \\\\((-4)^3 = \\\\)</div><div><span class=\\\"question-number\\\">(3)</span> \\\\((-5)^4 = \\\\)</div><div><span class=\\\"question-number\\\">(4)</span> \\\\(\\\\left(-\\\\frac{1}{3}\\\\right)^2 = \\\\)</div><div><span class=\\\"question-number\\\">(5)</span> \\\\(\\\\left(-\\\\frac{2}{5}\\\\right)^3 = \\\\)</div><div><span class=\\\"question-number\\\">(6)</span> \\\\(-(-3)^3 = \\\\)</div><div><span class=\\\"question-number\\\">(7)</span> \\\\(-(-4)^4 = \\\\)</div><div><span class=\\\"question-number\\\">(8)</span> \\\\(-\\\\left(-\\\\frac{1}{2}\\\\right)^3 = \\\\)</div><div><span class=\\\"question-number\\\">(9)</span> \\\\(-6^2 = \\\\)</div><div><span class=\\\"question-number\\\">(10)</span> \\\\(-7^3 = \\\\)</div><div><span class=\\\"question-number\\\">(11)</span> \\\\(-\\\\left(-\\\\frac{2}{3}\\\\right)^4 = \\\\)</div><div><span class=\\\"question-number\\\">(12)</span> \\\\(-\\\\left(-\\\\frac{3}{4}\\\\right)^5 = \\\\)</div></div>\"}\n",
      "../extraction_data/material/233_I_Polynomials_1/2547/generated/p2.png\n",
      "{\"title\": \"<p class=\\\"title\\\">Basics for Level I Mathematics</p>\", \"questions\": \"<div class=\\\"question\\\"><div><span class=\\\"question-number\\\">(1)</span> \\\\(- \\\\frac{2}{5} + \\\\frac{1}{3} =\\\\)</div><div><span class=\\\"question-number\\\">(2)</span> \\\\(\\\\frac{2}{7} - \\\\frac{1}{4} =\\\\)</div><div><span class=\\\"question-number\\\">(3)</span> \\\\(- \\\\left( 3 \\\\frac{3}{4} \\\\right) - \\\\left( - 2 \\\\frac{2}{3} \\\\right) =\\\\)</div><div><span class=\\\"question-number\\\">(4)</span> \\\\(- \\\\frac{3}{8} - \\\\frac{5}{12} + \\\\frac{1}{6} =\\\\)</div><div><span class=\\\"question-number\\\">(5)</span> \\\\(\\\\frac{2}{9} \\\\times \\\\left( - \\\\frac{4}{7} \\\\right) =\\\\)</div><div><span class=\\\"question-number\\\">(6)</span> \\\\(- \\\\frac{3}{2} \\\\times \\\\frac{5}{3} \\\\times 4 =\\\\)</div><div><span class=\\\"question-number\\\">(7)</span> \\\\(- 2 \\\\frac{1}{4} + 10 \\\\frac{5}{8} =\\\\)</div><div><span class=\\\"question-number\\\">(8)</span> \\\\(\\\\left( - \\\\frac{7}{9} \\\\right) \\\\div \\\\left( - 1 \\\\frac{1}{5} \\\\right) \\\\div \\\\left( - \\\\frac{3}{4} \\\\right) =\\\\)</div><div><span class=\\\"question-number\\\">(9)</span> \\\\(- 15 \\\\div (-3) + 7 \\\\times \\\\frac{1}{5} =\\\\)</div></div>\"}\n",
      "../extraction_data/material/233_I_Polynomials_1/2547/generated/p1.png\n",
      "{\"title\": \"<p class=\\\"title\\\">Simple arithmetic questions</p>\",\"questions\": \"<div class=\\\"question\\\"><div><span class=\\\"question-number\\\">(1)</span> \\\\((2x + y)(3z - 4w) =\\\\)</div><div><span class=\\\"question-number\\\">(2)</span> \\\\((a + b)(c - d) =\\\\)</div><div><span class=\\\"question-number\\\">(3)</span> \\\\((3p - q)(5r + 2s) =\\\\)</div><div><span class=\\\"question-number\\\">(4)</span> \\\\((4m + 3n)(2o - p) =\\\\)</div><div><span class=\\\"question-number\\\">(5)</span> \\\\((a - b)(x + 2y) =\\\\)</div><div><span class=\\\"question-number\\\">(6)</span> \\\\((2c + 3d)(x - y) =\\\\)</div><div><span class=\\\"question-number\\\">(7)</span> \\\\((5p - 2q)(7r + 3s) =\\\\)</div><div><span class=\\\"question-number\\\">(8)</span> \\\\((x + 4y)(2z - 3w) =\\\\)</div><div><span class=\\\"question-number\\\">(9)</span> \\\\((3a + 2b)(5c - d) =\\\\)</div><div><span class=\\\"question-number\\\">(10)</span> \\\\((x - 1)(y + 1) =\\\\)</div></div>\"}\n",
      "../extraction_data/material/233_I_Polynomials/2546/generated/p2.png\n",
      "{\"title\": \"<p class=\\\"title\\\">Multiplication of Polynomials</p>\",\"questions\": \"<div class=\\\"question\\\"><div><span class=\\\"question-number\\\">(1)</span> \\\\((x + y)(a + b) = ax + ay + bx + by\\\\)</div><div><span class=\\\"question-number\\\">(2)</span> \\\\((a + c)(b - d) = ab + ac - db - dc\\\\)</div><div><span class=\\\"question-number\\\">(3)</span> \\\\((2m + n)(x - y) = 2mx - 2my + nx - ny\\\\)</div><div><span class=\\\"question-number\\\">(4)</span> \\\\((p + q)(r + s) = pr + ps + qr + qs\\\\)</div><div><span class=\\\"question-number\\\">(5)</span> \\\\((3a + b)(c - d) = 3ac - 3ad + bc - bd\\\\)</div></div>\"}\n",
      "../extraction_data/material/233_I_Polynomials/2546/generated/p1.png\n"
     ]
    }
   ],
   "source": [
    "import glob\n",
    "import json\n",
    "\n",
    "usage_records=[]\n",
    "current_folder_paths_images=[]\n",
    "for folder_images in current_folder_paths:\n",
    "    image_paths = folder_images + '/common/*' \n",
    "    generated_image_path = folder_images + '/generated/' \n",
    "\n",
    "    for item in glob.glob(image_paths):\n",
    "        filename_with_extension = os.path.basename(item)  # Get the filename with extension\n",
    "        filename, _ = os.path.splitext(filename_with_extension)  # Remove the extension \n",
    "\n",
    "        base64_of_images=get_image_path(item)\n",
    "        completion = llm_bot(base64_of_images)\n",
    "        response=completion.to_dict()['choices'][0]['message']['content']\n",
    "        response_usage=completion.to_dict()['usage']\n",
    "        usage_records.append({\n",
    "            \"filename\": filename,\n",
    "            \"completion_tokens\": response_usage.get('completion_tokens', 0),\n",
    "            \"prompt_tokens\": response_usage.get('prompt_tokens', 0),\n",
    "            \"total_tokens\": response_usage.get('total_tokens', 0),\n",
    "        })\n",
    "        new_df_usage=pd.DataFrame(usage_records)\n",
    "        new_df_usage.describe().to_csv('usage.csv',index=True)\n",
    "\n",
    "        # Convert the string to a dictionary\n",
    "        print(response)\n",
    "        response_dict = json.loads(response)\n",
    "        generate_image_by_llm_and_save(response_dict,generated_image_path,filename)\n",
    "\n"
   ]
  },
  {
   "cell_type": "code",
   "execution_count": null,
   "metadata": {},
   "outputs": [],
   "source": [
    "      jm=pd.DataFrame(usage_records)"
   ]
  },
  {
   "cell_type": "code",
   "execution_count": 19,
   "metadata": {},
   "outputs": [
    {
     "data": {
      "text/html": [
       "<div>\n",
       "<style scoped>\n",
       "    .dataframe tbody tr th:only-of-type {\n",
       "        vertical-align: middle;\n",
       "    }\n",
       "\n",
       "    .dataframe tbody tr th {\n",
       "        vertical-align: top;\n",
       "    }\n",
       "\n",
       "    .dataframe thead th {\n",
       "        text-align: right;\n",
       "    }\n",
       "</style>\n",
       "<table border=\"1\" class=\"dataframe\">\n",
       "  <thead>\n",
       "    <tr style=\"text-align: right;\">\n",
       "      <th></th>\n",
       "      <th>filename</th>\n",
       "      <th>completion_tokens</th>\n",
       "      <th>prompt_tokens</th>\n",
       "      <th>total_tokens</th>\n",
       "    </tr>\n",
       "  </thead>\n",
       "  <tbody>\n",
       "    <tr>\n",
       "      <th>0</th>\n",
       "      <td>p2</td>\n",
       "      <td>355</td>\n",
       "      <td>665</td>\n",
       "      <td>1020</td>\n",
       "    </tr>\n",
       "    <tr>\n",
       "      <th>1</th>\n",
       "      <td>p1</td>\n",
       "      <td>423</td>\n",
       "      <td>665</td>\n",
       "      <td>1088</td>\n",
       "    </tr>\n",
       "    <tr>\n",
       "      <th>2</th>\n",
       "      <td>p2</td>\n",
       "      <td>341</td>\n",
       "      <td>665</td>\n",
       "      <td>1006</td>\n",
       "    </tr>\n",
       "    <tr>\n",
       "      <th>3</th>\n",
       "      <td>p1</td>\n",
       "      <td>214</td>\n",
       "      <td>665</td>\n",
       "      <td>879</td>\n",
       "    </tr>\n",
       "  </tbody>\n",
       "</table>\n",
       "</div>"
      ],
      "text/plain": [
       "  filename  completion_tokens  prompt_tokens  total_tokens\n",
       "0       p2                355            665          1020\n",
       "1       p1                423            665          1088\n",
       "2       p2                341            665          1006\n",
       "3       p1                214            665           879"
      ]
     },
     "execution_count": 19,
     "metadata": {},
     "output_type": "execute_result"
    }
   ],
   "source": [
    "new_df_usage"
   ]
  },
  {
   "cell_type": "code",
   "execution_count": 30,
   "metadata": {},
   "outputs": [],
   "source": [
    "new_df_usage.describe().to_csv('usage.csv',index=True)"
   ]
  },
  {
   "cell_type": "code",
   "execution_count": 29,
   "metadata": {},
   "outputs": [
    {
     "ename": "FileNotFoundError",
     "evalue": "[Errno 2] No such file or directory: 'usage.csv'",
     "output_type": "error",
     "traceback": [
      "\u001b[0;31m---------------------------------------------------------------------------\u001b[0m",
      "\u001b[0;31mFileNotFoundError\u001b[0m                         Traceback (most recent call last)",
      "Cell \u001b[0;32mIn[29], line 1\u001b[0m\n\u001b[0;32m----> 1\u001b[0m read_usage\u001b[38;5;241m=\u001b[39m\u001b[43mpd\u001b[49m\u001b[38;5;241;43m.\u001b[39;49m\u001b[43mread_csv\u001b[49m\u001b[43m(\u001b[49m\u001b[38;5;124;43m'\u001b[39;49m\u001b[38;5;124;43musage.csv\u001b[39;49m\u001b[38;5;124;43m'\u001b[39;49m\u001b[43m)\u001b[49m\n",
      "File \u001b[0;32m~/Documents/GitHub/LLM/llmenv/lib/python3.12/site-packages/pandas/io/parsers/readers.py:1026\u001b[0m, in \u001b[0;36mread_csv\u001b[0;34m(filepath_or_buffer, sep, delimiter, header, names, index_col, usecols, dtype, engine, converters, true_values, false_values, skipinitialspace, skiprows, skipfooter, nrows, na_values, keep_default_na, na_filter, verbose, skip_blank_lines, parse_dates, infer_datetime_format, keep_date_col, date_parser, date_format, dayfirst, cache_dates, iterator, chunksize, compression, thousands, decimal, lineterminator, quotechar, quoting, doublequote, escapechar, comment, encoding, encoding_errors, dialect, on_bad_lines, delim_whitespace, low_memory, memory_map, float_precision, storage_options, dtype_backend)\u001b[0m\n\u001b[1;32m   1013\u001b[0m kwds_defaults \u001b[38;5;241m=\u001b[39m _refine_defaults_read(\n\u001b[1;32m   1014\u001b[0m     dialect,\n\u001b[1;32m   1015\u001b[0m     delimiter,\n\u001b[0;32m   (...)\u001b[0m\n\u001b[1;32m   1022\u001b[0m     dtype_backend\u001b[38;5;241m=\u001b[39mdtype_backend,\n\u001b[1;32m   1023\u001b[0m )\n\u001b[1;32m   1024\u001b[0m kwds\u001b[38;5;241m.\u001b[39mupdate(kwds_defaults)\n\u001b[0;32m-> 1026\u001b[0m \u001b[38;5;28;01mreturn\u001b[39;00m \u001b[43m_read\u001b[49m\u001b[43m(\u001b[49m\u001b[43mfilepath_or_buffer\u001b[49m\u001b[43m,\u001b[49m\u001b[43m \u001b[49m\u001b[43mkwds\u001b[49m\u001b[43m)\u001b[49m\n",
      "File \u001b[0;32m~/Documents/GitHub/LLM/llmenv/lib/python3.12/site-packages/pandas/io/parsers/readers.py:620\u001b[0m, in \u001b[0;36m_read\u001b[0;34m(filepath_or_buffer, kwds)\u001b[0m\n\u001b[1;32m    617\u001b[0m _validate_names(kwds\u001b[38;5;241m.\u001b[39mget(\u001b[38;5;124m\"\u001b[39m\u001b[38;5;124mnames\u001b[39m\u001b[38;5;124m\"\u001b[39m, \u001b[38;5;28;01mNone\u001b[39;00m))\n\u001b[1;32m    619\u001b[0m \u001b[38;5;66;03m# Create the parser.\u001b[39;00m\n\u001b[0;32m--> 620\u001b[0m parser \u001b[38;5;241m=\u001b[39m \u001b[43mTextFileReader\u001b[49m\u001b[43m(\u001b[49m\u001b[43mfilepath_or_buffer\u001b[49m\u001b[43m,\u001b[49m\u001b[43m \u001b[49m\u001b[38;5;241;43m*\u001b[39;49m\u001b[38;5;241;43m*\u001b[39;49m\u001b[43mkwds\u001b[49m\u001b[43m)\u001b[49m\n\u001b[1;32m    622\u001b[0m \u001b[38;5;28;01mif\u001b[39;00m chunksize \u001b[38;5;129;01mor\u001b[39;00m iterator:\n\u001b[1;32m    623\u001b[0m     \u001b[38;5;28;01mreturn\u001b[39;00m parser\n",
      "File \u001b[0;32m~/Documents/GitHub/LLM/llmenv/lib/python3.12/site-packages/pandas/io/parsers/readers.py:1620\u001b[0m, in \u001b[0;36mTextFileReader.__init__\u001b[0;34m(self, f, engine, **kwds)\u001b[0m\n\u001b[1;32m   1617\u001b[0m     \u001b[38;5;28mself\u001b[39m\u001b[38;5;241m.\u001b[39moptions[\u001b[38;5;124m\"\u001b[39m\u001b[38;5;124mhas_index_names\u001b[39m\u001b[38;5;124m\"\u001b[39m] \u001b[38;5;241m=\u001b[39m kwds[\u001b[38;5;124m\"\u001b[39m\u001b[38;5;124mhas_index_names\u001b[39m\u001b[38;5;124m\"\u001b[39m]\n\u001b[1;32m   1619\u001b[0m \u001b[38;5;28mself\u001b[39m\u001b[38;5;241m.\u001b[39mhandles: IOHandles \u001b[38;5;241m|\u001b[39m \u001b[38;5;28;01mNone\u001b[39;00m \u001b[38;5;241m=\u001b[39m \u001b[38;5;28;01mNone\u001b[39;00m\n\u001b[0;32m-> 1620\u001b[0m \u001b[38;5;28mself\u001b[39m\u001b[38;5;241m.\u001b[39m_engine \u001b[38;5;241m=\u001b[39m \u001b[38;5;28;43mself\u001b[39;49m\u001b[38;5;241;43m.\u001b[39;49m\u001b[43m_make_engine\u001b[49m\u001b[43m(\u001b[49m\u001b[43mf\u001b[49m\u001b[43m,\u001b[49m\u001b[43m \u001b[49m\u001b[38;5;28;43mself\u001b[39;49m\u001b[38;5;241;43m.\u001b[39;49m\u001b[43mengine\u001b[49m\u001b[43m)\u001b[49m\n",
      "File \u001b[0;32m~/Documents/GitHub/LLM/llmenv/lib/python3.12/site-packages/pandas/io/parsers/readers.py:1880\u001b[0m, in \u001b[0;36mTextFileReader._make_engine\u001b[0;34m(self, f, engine)\u001b[0m\n\u001b[1;32m   1878\u001b[0m     \u001b[38;5;28;01mif\u001b[39;00m \u001b[38;5;124m\"\u001b[39m\u001b[38;5;124mb\u001b[39m\u001b[38;5;124m\"\u001b[39m \u001b[38;5;129;01mnot\u001b[39;00m \u001b[38;5;129;01min\u001b[39;00m mode:\n\u001b[1;32m   1879\u001b[0m         mode \u001b[38;5;241m+\u001b[39m\u001b[38;5;241m=\u001b[39m \u001b[38;5;124m\"\u001b[39m\u001b[38;5;124mb\u001b[39m\u001b[38;5;124m\"\u001b[39m\n\u001b[0;32m-> 1880\u001b[0m \u001b[38;5;28mself\u001b[39m\u001b[38;5;241m.\u001b[39mhandles \u001b[38;5;241m=\u001b[39m \u001b[43mget_handle\u001b[49m\u001b[43m(\u001b[49m\n\u001b[1;32m   1881\u001b[0m \u001b[43m    \u001b[49m\u001b[43mf\u001b[49m\u001b[43m,\u001b[49m\n\u001b[1;32m   1882\u001b[0m \u001b[43m    \u001b[49m\u001b[43mmode\u001b[49m\u001b[43m,\u001b[49m\n\u001b[1;32m   1883\u001b[0m \u001b[43m    \u001b[49m\u001b[43mencoding\u001b[49m\u001b[38;5;241;43m=\u001b[39;49m\u001b[38;5;28;43mself\u001b[39;49m\u001b[38;5;241;43m.\u001b[39;49m\u001b[43moptions\u001b[49m\u001b[38;5;241;43m.\u001b[39;49m\u001b[43mget\u001b[49m\u001b[43m(\u001b[49m\u001b[38;5;124;43m\"\u001b[39;49m\u001b[38;5;124;43mencoding\u001b[39;49m\u001b[38;5;124;43m\"\u001b[39;49m\u001b[43m,\u001b[49m\u001b[43m \u001b[49m\u001b[38;5;28;43;01mNone\u001b[39;49;00m\u001b[43m)\u001b[49m\u001b[43m,\u001b[49m\n\u001b[1;32m   1884\u001b[0m \u001b[43m    \u001b[49m\u001b[43mcompression\u001b[49m\u001b[38;5;241;43m=\u001b[39;49m\u001b[38;5;28;43mself\u001b[39;49m\u001b[38;5;241;43m.\u001b[39;49m\u001b[43moptions\u001b[49m\u001b[38;5;241;43m.\u001b[39;49m\u001b[43mget\u001b[49m\u001b[43m(\u001b[49m\u001b[38;5;124;43m\"\u001b[39;49m\u001b[38;5;124;43mcompression\u001b[39;49m\u001b[38;5;124;43m\"\u001b[39;49m\u001b[43m,\u001b[49m\u001b[43m \u001b[49m\u001b[38;5;28;43;01mNone\u001b[39;49;00m\u001b[43m)\u001b[49m\u001b[43m,\u001b[49m\n\u001b[1;32m   1885\u001b[0m \u001b[43m    \u001b[49m\u001b[43mmemory_map\u001b[49m\u001b[38;5;241;43m=\u001b[39;49m\u001b[38;5;28;43mself\u001b[39;49m\u001b[38;5;241;43m.\u001b[39;49m\u001b[43moptions\u001b[49m\u001b[38;5;241;43m.\u001b[39;49m\u001b[43mget\u001b[49m\u001b[43m(\u001b[49m\u001b[38;5;124;43m\"\u001b[39;49m\u001b[38;5;124;43mmemory_map\u001b[39;49m\u001b[38;5;124;43m\"\u001b[39;49m\u001b[43m,\u001b[49m\u001b[43m \u001b[49m\u001b[38;5;28;43;01mFalse\u001b[39;49;00m\u001b[43m)\u001b[49m\u001b[43m,\u001b[49m\n\u001b[1;32m   1886\u001b[0m \u001b[43m    \u001b[49m\u001b[43mis_text\u001b[49m\u001b[38;5;241;43m=\u001b[39;49m\u001b[43mis_text\u001b[49m\u001b[43m,\u001b[49m\n\u001b[1;32m   1887\u001b[0m \u001b[43m    \u001b[49m\u001b[43merrors\u001b[49m\u001b[38;5;241;43m=\u001b[39;49m\u001b[38;5;28;43mself\u001b[39;49m\u001b[38;5;241;43m.\u001b[39;49m\u001b[43moptions\u001b[49m\u001b[38;5;241;43m.\u001b[39;49m\u001b[43mget\u001b[49m\u001b[43m(\u001b[49m\u001b[38;5;124;43m\"\u001b[39;49m\u001b[38;5;124;43mencoding_errors\u001b[39;49m\u001b[38;5;124;43m\"\u001b[39;49m\u001b[43m,\u001b[49m\u001b[43m \u001b[49m\u001b[38;5;124;43m\"\u001b[39;49m\u001b[38;5;124;43mstrict\u001b[39;49m\u001b[38;5;124;43m\"\u001b[39;49m\u001b[43m)\u001b[49m\u001b[43m,\u001b[49m\n\u001b[1;32m   1888\u001b[0m \u001b[43m    \u001b[49m\u001b[43mstorage_options\u001b[49m\u001b[38;5;241;43m=\u001b[39;49m\u001b[38;5;28;43mself\u001b[39;49m\u001b[38;5;241;43m.\u001b[39;49m\u001b[43moptions\u001b[49m\u001b[38;5;241;43m.\u001b[39;49m\u001b[43mget\u001b[49m\u001b[43m(\u001b[49m\u001b[38;5;124;43m\"\u001b[39;49m\u001b[38;5;124;43mstorage_options\u001b[39;49m\u001b[38;5;124;43m\"\u001b[39;49m\u001b[43m,\u001b[49m\u001b[43m \u001b[49m\u001b[38;5;28;43;01mNone\u001b[39;49;00m\u001b[43m)\u001b[49m\u001b[43m,\u001b[49m\n\u001b[1;32m   1889\u001b[0m \u001b[43m\u001b[49m\u001b[43m)\u001b[49m\n\u001b[1;32m   1890\u001b[0m \u001b[38;5;28;01massert\u001b[39;00m \u001b[38;5;28mself\u001b[39m\u001b[38;5;241m.\u001b[39mhandles \u001b[38;5;129;01mis\u001b[39;00m \u001b[38;5;129;01mnot\u001b[39;00m \u001b[38;5;28;01mNone\u001b[39;00m\n\u001b[1;32m   1891\u001b[0m f \u001b[38;5;241m=\u001b[39m \u001b[38;5;28mself\u001b[39m\u001b[38;5;241m.\u001b[39mhandles\u001b[38;5;241m.\u001b[39mhandle\n",
      "File \u001b[0;32m~/Documents/GitHub/LLM/llmenv/lib/python3.12/site-packages/pandas/io/common.py:873\u001b[0m, in \u001b[0;36mget_handle\u001b[0;34m(path_or_buf, mode, encoding, compression, memory_map, is_text, errors, storage_options)\u001b[0m\n\u001b[1;32m    868\u001b[0m \u001b[38;5;28;01melif\u001b[39;00m \u001b[38;5;28misinstance\u001b[39m(handle, \u001b[38;5;28mstr\u001b[39m):\n\u001b[1;32m    869\u001b[0m     \u001b[38;5;66;03m# Check whether the filename is to be opened in binary mode.\u001b[39;00m\n\u001b[1;32m    870\u001b[0m     \u001b[38;5;66;03m# Binary mode does not support 'encoding' and 'newline'.\u001b[39;00m\n\u001b[1;32m    871\u001b[0m     \u001b[38;5;28;01mif\u001b[39;00m ioargs\u001b[38;5;241m.\u001b[39mencoding \u001b[38;5;129;01mand\u001b[39;00m \u001b[38;5;124m\"\u001b[39m\u001b[38;5;124mb\u001b[39m\u001b[38;5;124m\"\u001b[39m \u001b[38;5;129;01mnot\u001b[39;00m \u001b[38;5;129;01min\u001b[39;00m ioargs\u001b[38;5;241m.\u001b[39mmode:\n\u001b[1;32m    872\u001b[0m         \u001b[38;5;66;03m# Encoding\u001b[39;00m\n\u001b[0;32m--> 873\u001b[0m         handle \u001b[38;5;241m=\u001b[39m \u001b[38;5;28;43mopen\u001b[39;49m\u001b[43m(\u001b[49m\n\u001b[1;32m    874\u001b[0m \u001b[43m            \u001b[49m\u001b[43mhandle\u001b[49m\u001b[43m,\u001b[49m\n\u001b[1;32m    875\u001b[0m \u001b[43m            \u001b[49m\u001b[43mioargs\u001b[49m\u001b[38;5;241;43m.\u001b[39;49m\u001b[43mmode\u001b[49m\u001b[43m,\u001b[49m\n\u001b[1;32m    876\u001b[0m \u001b[43m            \u001b[49m\u001b[43mencoding\u001b[49m\u001b[38;5;241;43m=\u001b[39;49m\u001b[43mioargs\u001b[49m\u001b[38;5;241;43m.\u001b[39;49m\u001b[43mencoding\u001b[49m\u001b[43m,\u001b[49m\n\u001b[1;32m    877\u001b[0m \u001b[43m            \u001b[49m\u001b[43merrors\u001b[49m\u001b[38;5;241;43m=\u001b[39;49m\u001b[43merrors\u001b[49m\u001b[43m,\u001b[49m\n\u001b[1;32m    878\u001b[0m \u001b[43m            \u001b[49m\u001b[43mnewline\u001b[49m\u001b[38;5;241;43m=\u001b[39;49m\u001b[38;5;124;43m\"\u001b[39;49m\u001b[38;5;124;43m\"\u001b[39;49m\u001b[43m,\u001b[49m\n\u001b[1;32m    879\u001b[0m \u001b[43m        \u001b[49m\u001b[43m)\u001b[49m\n\u001b[1;32m    880\u001b[0m     \u001b[38;5;28;01melse\u001b[39;00m:\n\u001b[1;32m    881\u001b[0m         \u001b[38;5;66;03m# Binary mode\u001b[39;00m\n\u001b[1;32m    882\u001b[0m         handle \u001b[38;5;241m=\u001b[39m \u001b[38;5;28mopen\u001b[39m(handle, ioargs\u001b[38;5;241m.\u001b[39mmode)\n",
      "\u001b[0;31mFileNotFoundError\u001b[0m: [Errno 2] No such file or directory: 'usage.csv'"
     ]
    }
   ],
   "source": [
    "read_usage=pd.read_csv('usage.csv')"
   ]
  },
  {
   "cell_type": "code",
   "execution_count": 28,
   "metadata": {},
   "outputs": [
    {
     "name": "stdout",
     "output_type": "stream",
     "text": [
      "Total Tokens Used: 6084.6947054967595\n",
      "Total Spend: Rs 2.6722\n"
     ]
    }
   ],
   "source": [
    "prompt_token_cost = 0.000216  # Cost per prompt token (example)\n",
    "completion_token_cost = 0.00086551  # Cost per completion token (example)\n",
    "\n",
    "# Calculate the total spend\n",
    "total_prompt_tokens = read_usage['prompt_tokens'].sum()\n",
    "total_completion_tokens = read_usage['completion_tokens'].sum()\n",
    "\n",
    "total_cost = (total_prompt_tokens * prompt_token_cost) + (total_completion_tokens * completion_token_cost)\n",
    "\n",
    "print(f\"Total Tokens Used: {total_prompt_tokens + total_completion_tokens}\")\n",
    "print(f\"Total Spend: Rs {total_cost:.4f}\")"
   ]
  }
 ],
 "metadata": {
  "kernelspec": {
   "display_name": "llmenv",
   "language": "python",
   "name": "python3"
  },
  "language_info": {
   "codemirror_mode": {
    "name": "ipython",
    "version": 3
   },
   "file_extension": ".py",
   "mimetype": "text/x-python",
   "name": "python",
   "nbconvert_exporter": "python",
   "pygments_lexer": "ipython3",
   "version": "3.12.4"
  }
 },
 "nbformat": 4,
 "nbformat_minor": 2
}
