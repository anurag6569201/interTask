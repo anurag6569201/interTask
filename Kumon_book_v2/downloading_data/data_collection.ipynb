{
 "cells": [
  {
   "cell_type": "code",
   "execution_count": 11,
   "metadata": {},
   "outputs": [],
   "source": [
    "import pandas as pd\n",
    "import numpy as np"
   ]
  },
  {
   "cell_type": "code",
   "execution_count": 12,
   "metadata": {},
   "outputs": [],
   "source": [
    "data_df=pd.read_csv('../urls.csv')"
   ]
  },
  {
   "cell_type": "code",
   "execution_count": 13,
   "metadata": {},
   "outputs": [
    {
     "data": {
      "text/html": [
       "<div>\n",
       "<style scoped>\n",
       "    .dataframe tbody tr th:only-of-type {\n",
       "        vertical-align: middle;\n",
       "    }\n",
       "\n",
       "    .dataframe tbody tr th {\n",
       "        vertical-align: top;\n",
       "    }\n",
       "\n",
       "    .dataframe thead th {\n",
       "        text-align: right;\n",
       "    }\n",
       "</style>\n",
       "<table border=\"1\" class=\"dataframe\">\n",
       "  <thead>\n",
       "    <tr style=\"text-align: right;\">\n",
       "      <th></th>\n",
       "      <th>crs_id</th>\n",
       "      <th>crs_title</th>\n",
       "      <th>file_id</th>\n",
       "      <th>file_name</th>\n",
       "      <th>file_url</th>\n",
       "    </tr>\n",
       "  </thead>\n",
       "  <tbody>\n",
       "    <tr>\n",
       "      <th>0</th>\n",
       "      <td>233</td>\n",
       "      <td>I Polynomials</td>\n",
       "      <td>2546</td>\n",
       "      <td>Basics for Level 1 Mathematics</td>\n",
       "      <td>https://shikhyaprod.s3.amazonaws.com/odia/Cour...</td>\n",
       "    </tr>\n",
       "    <tr>\n",
       "      <th>1</th>\n",
       "      <td>233</td>\n",
       "      <td>I Polynomials</td>\n",
       "      <td>2547</td>\n",
       "      <td>Multiplication of Polynomials</td>\n",
       "      <td>https://shikhyaprod.s3.amazonaws.com/odia/Cour...</td>\n",
       "    </tr>\n",
       "  </tbody>\n",
       "</table>\n",
       "</div>"
      ],
      "text/plain": [
       "   crs_id      crs_title  file_id                       file_name  \\\n",
       "0     233  I Polynomials     2546  Basics for Level 1 Mathematics   \n",
       "1     233  I Polynomials     2547   Multiplication of Polynomials   \n",
       "\n",
       "                                            file_url  \n",
       "0  https://shikhyaprod.s3.amazonaws.com/odia/Cour...  \n",
       "1  https://shikhyaprod.s3.amazonaws.com/odia/Cour...  "
      ]
     },
     "execution_count": 13,
     "metadata": {},
     "output_type": "execute_result"
    }
   ],
   "source": [
    "data_df.head()"
   ]
  },
  {
   "cell_type": "code",
   "execution_count": 14,
   "metadata": {},
   "outputs": [
    {
     "name": "stdout",
     "output_type": "stream",
     "text": [
      "0    Basics_for_Level_1_Mathematics\n",
      "1     Multiplication_of_Polynomials\n",
      "Name: file_name, dtype: object\n"
     ]
    }
   ],
   "source": [
    "data_df['file_name'] = data_df['file_name'].apply(lambda x: x.replace(' ', '_') if isinstance(x, str) else x)\n",
    "data_df['crs_title'] = data_df['crs_title'].apply(lambda x: x.replace(' ', '_') if isinstance(x, str) else x)\n",
    "print(data_df['file_name'])\n"
   ]
  },
  {
   "cell_type": "code",
   "execution_count": 5,
   "metadata": {},
   "outputs": [
    {
     "data": {
      "text/html": [
       "<div>\n",
       "<style scoped>\n",
       "    .dataframe tbody tr th:only-of-type {\n",
       "        vertical-align: middle;\n",
       "    }\n",
       "\n",
       "    .dataframe tbody tr th {\n",
       "        vertical-align: top;\n",
       "    }\n",
       "\n",
       "    .dataframe thead th {\n",
       "        text-align: right;\n",
       "    }\n",
       "</style>\n",
       "<table border=\"1\" class=\"dataframe\">\n",
       "  <thead>\n",
       "    <tr style=\"text-align: right;\">\n",
       "      <th></th>\n",
       "      <th>crs_id</th>\n",
       "      <th>crs_title</th>\n",
       "      <th>file_id</th>\n",
       "      <th>file_name</th>\n",
       "      <th>file_url</th>\n",
       "    </tr>\n",
       "  </thead>\n",
       "  <tbody>\n",
       "    <tr>\n",
       "      <th>0</th>\n",
       "      <td>231</td>\n",
       "      <td>6A</td>\n",
       "      <td>2506</td>\n",
       "      <td>Counting_(Up_to_5)_1</td>\n",
       "      <td>https://shikhyaprod.s3.amazonaws.com/odia/Cour...</td>\n",
       "    </tr>\n",
       "    <tr>\n",
       "      <th>1</th>\n",
       "      <td>231</td>\n",
       "      <td>6A</td>\n",
       "      <td>2507</td>\n",
       "      <td>Counting_(Up_to_5)_2</td>\n",
       "      <td>https://shikhyaprod.s3.amazonaws.com/odia/Cour...</td>\n",
       "    </tr>\n",
       "  </tbody>\n",
       "</table>\n",
       "</div>"
      ],
      "text/plain": [
       "   crs_id crs_title  file_id             file_name  \\\n",
       "0     231        6A     2506  Counting_(Up_to_5)_1   \n",
       "1     231        6A     2507  Counting_(Up_to_5)_2   \n",
       "\n",
       "                                            file_url  \n",
       "0  https://shikhyaprod.s3.amazonaws.com/odia/Cour...  \n",
       "1  https://shikhyaprod.s3.amazonaws.com/odia/Cour...  "
      ]
     },
     "execution_count": 5,
     "metadata": {},
     "output_type": "execute_result"
    }
   ],
   "source": [
    "data_df.sample(n=2)"
   ]
  },
  {
   "cell_type": "code",
   "execution_count": 15,
   "metadata": {},
   "outputs": [],
   "source": [
    "data_df['final_name'] = data_df['crs_id'].astype(str) + '_' + data_df['crs_title'].astype(str) + '_' + data_df['file_id'].astype(str) + '_' + data_df['file_name']"
   ]
  },
  {
   "cell_type": "code",
   "execution_count": 16,
   "metadata": {},
   "outputs": [
    {
     "data": {
      "text/html": [
       "<div>\n",
       "<style scoped>\n",
       "    .dataframe tbody tr th:only-of-type {\n",
       "        vertical-align: middle;\n",
       "    }\n",
       "\n",
       "    .dataframe tbody tr th {\n",
       "        vertical-align: top;\n",
       "    }\n",
       "\n",
       "    .dataframe thead th {\n",
       "        text-align: right;\n",
       "    }\n",
       "</style>\n",
       "<table border=\"1\" class=\"dataframe\">\n",
       "  <thead>\n",
       "    <tr style=\"text-align: right;\">\n",
       "      <th></th>\n",
       "      <th>crs_id</th>\n",
       "      <th>crs_title</th>\n",
       "      <th>file_id</th>\n",
       "      <th>file_name</th>\n",
       "      <th>file_url</th>\n",
       "      <th>final_name</th>\n",
       "    </tr>\n",
       "  </thead>\n",
       "  <tbody>\n",
       "    <tr>\n",
       "      <th>0</th>\n",
       "      <td>233</td>\n",
       "      <td>I_Polynomials</td>\n",
       "      <td>2546</td>\n",
       "      <td>Basics_for_Level_1_Mathematics</td>\n",
       "      <td>https://shikhyaprod.s3.amazonaws.com/odia/Cour...</td>\n",
       "      <td>233_I_Polynomials_2546_Basics_for_Level_1_Math...</td>\n",
       "    </tr>\n",
       "    <tr>\n",
       "      <th>1</th>\n",
       "      <td>233</td>\n",
       "      <td>I_Polynomials</td>\n",
       "      <td>2547</td>\n",
       "      <td>Multiplication_of_Polynomials</td>\n",
       "      <td>https://shikhyaprod.s3.amazonaws.com/odia/Cour...</td>\n",
       "      <td>233_I_Polynomials_2547_Multiplication_of_Polyn...</td>\n",
       "    </tr>\n",
       "  </tbody>\n",
       "</table>\n",
       "</div>"
      ],
      "text/plain": [
       "   crs_id      crs_title  file_id                       file_name  \\\n",
       "0     233  I_Polynomials     2546  Basics_for_Level_1_Mathematics   \n",
       "1     233  I_Polynomials     2547   Multiplication_of_Polynomials   \n",
       "\n",
       "                                            file_url  \\\n",
       "0  https://shikhyaprod.s3.amazonaws.com/odia/Cour...   \n",
       "1  https://shikhyaprod.s3.amazonaws.com/odia/Cour...   \n",
       "\n",
       "                                          final_name  \n",
       "0  233_I_Polynomials_2546_Basics_for_Level_1_Math...  \n",
       "1  233_I_Polynomials_2547_Multiplication_of_Polyn...  "
      ]
     },
     "execution_count": 16,
     "metadata": {},
     "output_type": "execute_result"
    }
   ],
   "source": [
    "data_df.head()"
   ]
  },
  {
   "cell_type": "code",
   "execution_count": 17,
   "metadata": {},
   "outputs": [],
   "source": [
    "list_of_urls_to_download = dict(zip(data_df['final_name'], data_df['file_url']))"
   ]
  },
  {
   "cell_type": "code",
   "execution_count": 18,
   "metadata": {},
   "outputs": [
    {
     "data": {
      "text/plain": [
       "{'233_I_Polynomials_2546_Basics_for_Level_1_Mathematics': 'https://shikhyaprod.s3.amazonaws.com/odia/CourseResource/233/files/2546/2546_OE993JZkqg.pdf',\n",
       " '233_I_Polynomials_2547_Multiplication_of_Polynomials': 'https://shikhyaprod.s3.amazonaws.com/odia/CourseResource/233/files/2547/2547_oZtLl7cV9f.pdf'}"
      ]
     },
     "execution_count": 18,
     "metadata": {},
     "output_type": "execute_result"
    }
   ],
   "source": [
    "list_of_urls_to_download"
   ]
  },
  {
   "cell_type": "code",
   "execution_count": 19,
   "metadata": {},
   "outputs": [
    {
     "name": "stdout",
     "output_type": "stream",
     "text": [
      "Downloaded: downloads/233_I_Polynomials_2546_Basics_for_Level_1_Mathematics.pdf\n",
      "Downloaded: downloads/233_I_Polynomials_2547_Multiplication_of_Polynomials.pdf\n",
      "Download process completed.\n"
     ]
    }
   ],
   "source": [
    "import os\n",
    "import requests\n",
    "\n",
    "# Folder to save PDFs\n",
    "save_folder = \"downloads\"\n",
    "os.makedirs(save_folder, exist_ok=True)\n",
    "\n",
    "def download_pdf(url, save_path):\n",
    "    \"\"\"Download a PDF file from a given URL and save it.\"\"\"\n",
    "    try:\n",
    "        response = requests.get(url, stream=True)\n",
    "        response.raise_for_status()  # Raise an error for bad responses (4xx, 5xx)\n",
    "        \n",
    "        with open(save_path, \"wb\") as file:\n",
    "            for chunk in response.iter_content(chunk_size=8192):\n",
    "                file.write(chunk)\n",
    "        \n",
    "        print(f\"Downloaded: {save_path}\")\n",
    "    except requests.exceptions.RequestException as e:\n",
    "        print(f\"Failed to download {url}: {e}\")\n",
    "\n",
    "for final_name, url in list_of_urls_to_download.items():\n",
    "    save_path = os.path.join(save_folder, final_name + \".pdf\")  # Use the key as the filename\n",
    "    download_pdf(url, save_path)\n",
    "\n",
    "print(\"Download process completed.\")\n"
   ]
  }
 ],
 "metadata": {
  "kernelspec": {
   "display_name": "llmenv",
   "language": "python",
   "name": "python3"
  },
  "language_info": {
   "codemirror_mode": {
    "name": "ipython",
    "version": 3
   },
   "file_extension": ".py",
   "mimetype": "text/x-python",
   "name": "python",
   "nbconvert_exporter": "python",
   "pygments_lexer": "ipython3",
   "version": "3.12.4"
  }
 },
 "nbformat": 4,
 "nbformat_minor": 2
}
